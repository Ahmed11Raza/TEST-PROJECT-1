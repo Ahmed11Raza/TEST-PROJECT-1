{
  "nbformat": 4,
  "nbformat_minor": 0,
  "metadata": {
    "colab": {
      "provenance": [],
      "authorship_tag": "ABX9TyM1WIf85zwB0fX054vAT+I7",
      "include_colab_link": true
    },
    "kernelspec": {
      "name": "python3",
      "display_name": "Python 3"
    },
    "language_info": {
      "name": "python"
    },
    "widgets": {
      "application/vnd.jupyter.widget-state+json": {
        "e991a2c202c348d09cac9463b4c08c83": {
          "model_module": "@jupyter-widgets/controls",
          "model_name": "SelectMultipleModel",
          "model_module_version": "2.0.0",
          "state": {
            "_dom_classes": [],
            "_model_module": "@jupyter-widgets/controls",
            "_model_module_version": "2.0.0",
            "_model_name": "SelectMultipleModel",
            "_options_labels": [
              "UTC",
              "Asia/Karachi",
              "America/New_York",
              "Europe/London",
              "Asia/Tokyo",
              "Australia/Sydney",
              "America/Los_Angeles",
              "Europe/Berlin",
              "Asia/Dubai",
              "Asia/Kolkata"
            ],
            "_view_count": null,
            "_view_module": "@jupyter-widgets/controls",
            "_view_module_version": "2.0.0",
            "_view_name": "SelectMultipleView",
            "description": "Select Timezones:",
            "description_allow_html": false,
            "disabled": false,
            "index": [
              4
            ],
            "layout": "IPY_MODEL_e73aede018964dac95f9725cec7f7f7c",
            "rows": 5,
            "style": "IPY_MODEL_e94c0ecc61534fc685cd1b1a9a88ef7c",
            "tabbable": null,
            "tooltip": null
          }
        },
        "e73aede018964dac95f9725cec7f7f7c": {
          "model_module": "@jupyter-widgets/base",
          "model_name": "LayoutModel",
          "model_module_version": "2.0.0",
          "state": {
            "_model_module": "@jupyter-widgets/base",
            "_model_module_version": "2.0.0",
            "_model_name": "LayoutModel",
            "_view_count": null,
            "_view_module": "@jupyter-widgets/base",
            "_view_module_version": "2.0.0",
            "_view_name": "LayoutView",
            "align_content": null,
            "align_items": null,
            "align_self": null,
            "border_bottom": null,
            "border_left": null,
            "border_right": null,
            "border_top": null,
            "bottom": null,
            "display": null,
            "flex": null,
            "flex_flow": null,
            "grid_area": null,
            "grid_auto_columns": null,
            "grid_auto_flow": null,
            "grid_auto_rows": null,
            "grid_column": null,
            "grid_gap": null,
            "grid_row": null,
            "grid_template_areas": null,
            "grid_template_columns": null,
            "grid_template_rows": null,
            "height": null,
            "justify_content": null,
            "justify_items": null,
            "left": null,
            "margin": null,
            "max_height": null,
            "max_width": null,
            "min_height": null,
            "min_width": null,
            "object_fit": null,
            "object_position": null,
            "order": null,
            "overflow": null,
            "padding": null,
            "right": null,
            "top": null,
            "visibility": null,
            "width": null
          }
        },
        "e94c0ecc61534fc685cd1b1a9a88ef7c": {
          "model_module": "@jupyter-widgets/controls",
          "model_name": "DescriptionStyleModel",
          "model_module_version": "2.0.0",
          "state": {
            "_model_module": "@jupyter-widgets/controls",
            "_model_module_version": "2.0.0",
            "_model_name": "DescriptionStyleModel",
            "_view_count": null,
            "_view_module": "@jupyter-widgets/base",
            "_view_module_version": "2.0.0",
            "_view_name": "StyleView",
            "description_width": ""
          }
        },
        "563f0295772e4d439b682ea0d05670ed": {
          "model_module": "@jupyter-widgets/output",
          "model_name": "OutputModel",
          "model_module_version": "1.0.0",
          "state": {
            "_dom_classes": [],
            "_model_module": "@jupyter-widgets/output",
            "_model_module_version": "1.0.0",
            "_model_name": "OutputModel",
            "_view_count": null,
            "_view_module": "@jupyter-widgets/output",
            "_view_module_version": "1.0.0",
            "_view_name": "OutputView",
            "layout": "IPY_MODEL_1a9cb3c5c8334cb6bdf5acbd9b8342de",
            "msg_id": "",
            "outputs": [
              {
                "output_type": "stream",
                "name": "stdout",
                "text": [
                  "🕒 Current Time in Selected Timezones:\n",
                  "Asia/Tokyo: 2025-03-09 03:33:29 AM\n"
                ]
              }
            ],
            "tabbable": null,
            "tooltip": null
          }
        },
        "1a9cb3c5c8334cb6bdf5acbd9b8342de": {
          "model_module": "@jupyter-widgets/base",
          "model_name": "LayoutModel",
          "model_module_version": "2.0.0",
          "state": {
            "_model_module": "@jupyter-widgets/base",
            "_model_module_version": "2.0.0",
            "_model_name": "LayoutModel",
            "_view_count": null,
            "_view_module": "@jupyter-widgets/base",
            "_view_module_version": "2.0.0",
            "_view_name": "LayoutView",
            "align_content": null,
            "align_items": null,
            "align_self": null,
            "border_bottom": null,
            "border_left": null,
            "border_right": null,
            "border_top": null,
            "bottom": null,
            "display": null,
            "flex": null,
            "flex_flow": null,
            "grid_area": null,
            "grid_auto_columns": null,
            "grid_auto_flow": null,
            "grid_auto_rows": null,
            "grid_column": null,
            "grid_gap": null,
            "grid_row": null,
            "grid_template_areas": null,
            "grid_template_columns": null,
            "grid_template_rows": null,
            "height": null,
            "justify_content": null,
            "justify_items": null,
            "left": null,
            "margin": null,
            "max_height": null,
            "max_width": null,
            "min_height": null,
            "min_width": null,
            "object_fit": null,
            "object_position": null,
            "order": null,
            "overflow": null,
            "padding": null,
            "right": null,
            "top": null,
            "visibility": null,
            "width": null
          }
        },
        "3c5b9161258745758145b2ce913636d4": {
          "model_module": "@jupyter-widgets/controls",
          "model_name": "TimeModel",
          "model_module_version": "2.0.0",
          "state": {
            "_dom_classes": [],
            "_model_module": "@jupyter-widgets/controls",
            "_model_module_version": "2.0.0",
            "_model_name": "TimeModel",
            "_view_count": null,
            "_view_module": "@jupyter-widgets/controls",
            "_view_module_version": "2.0.0",
            "_view_name": "TimeView",
            "description": "Current Time:",
            "description_allow_html": false,
            "disabled": false,
            "layout": "IPY_MODEL_1148b2ac8e274e6d97a85cd6b03392d3",
            "max": null,
            "min": null,
            "step": 60,
            "style": "IPY_MODEL_624841eccd1148658fe019204edb8212",
            "tabbable": null,
            "tooltip": null,
            "value": {
              "hours": 18,
              "minutes": 33,
              "seconds": 10,
              "milliseconds": 921.554
            }
          }
        },
        "8686d13f6170432fbb4095fc35053066": {
          "model_module": "@jupyter-widgets/controls",
          "model_name": "DropdownModel",
          "model_module_version": "2.0.0",
          "state": {
            "_dom_classes": [],
            "_model_module": "@jupyter-widgets/controls",
            "_model_module_version": "2.0.0",
            "_model_name": "DropdownModel",
            "_options_labels": [
              "UTC",
              "Asia/Karachi",
              "America/New_York",
              "Europe/London",
              "Asia/Tokyo",
              "Australia/Sydney",
              "America/Los_Angeles",
              "Europe/Berlin",
              "Asia/Dubai",
              "Asia/Kolkata"
            ],
            "_view_count": null,
            "_view_module": "@jupyter-widgets/controls",
            "_view_module_version": "2.0.0",
            "_view_name": "DropdownView",
            "description": "From Timezone:",
            "description_allow_html": false,
            "disabled": false,
            "index": 0,
            "layout": "IPY_MODEL_dc506aa643b34f168a7d8c44c808deca",
            "style": "IPY_MODEL_71b2cc585fde4aab9e474d51238a5102",
            "tabbable": null,
            "tooltip": null
          }
        },
        "dc506aa643b34f168a7d8c44c808deca": {
          "model_module": "@jupyter-widgets/base",
          "model_name": "LayoutModel",
          "model_module_version": "2.0.0",
          "state": {
            "_model_module": "@jupyter-widgets/base",
            "_model_module_version": "2.0.0",
            "_model_name": "LayoutModel",
            "_view_count": null,
            "_view_module": "@jupyter-widgets/base",
            "_view_module_version": "2.0.0",
            "_view_name": "LayoutView",
            "align_content": null,
            "align_items": null,
            "align_self": null,
            "border_bottom": null,
            "border_left": null,
            "border_right": null,
            "border_top": null,
            "bottom": null,
            "display": null,
            "flex": null,
            "flex_flow": null,
            "grid_area": null,
            "grid_auto_columns": null,
            "grid_auto_flow": null,
            "grid_auto_rows": null,
            "grid_column": null,
            "grid_gap": null,
            "grid_row": null,
            "grid_template_areas": null,
            "grid_template_columns": null,
            "grid_template_rows": null,
            "height": null,
            "justify_content": null,
            "justify_items": null,
            "left": null,
            "margin": null,
            "max_height": null,
            "max_width": null,
            "min_height": null,
            "min_width": null,
            "object_fit": null,
            "object_position": null,
            "order": null,
            "overflow": null,
            "padding": null,
            "right": null,
            "top": null,
            "visibility": null,
            "width": null
          }
        },
        "71b2cc585fde4aab9e474d51238a5102": {
          "model_module": "@jupyter-widgets/controls",
          "model_name": "DescriptionStyleModel",
          "model_module_version": "2.0.0",
          "state": {
            "_model_module": "@jupyter-widgets/controls",
            "_model_module_version": "2.0.0",
            "_model_name": "DescriptionStyleModel",
            "_view_count": null,
            "_view_module": "@jupyter-widgets/base",
            "_view_module_version": "2.0.0",
            "_view_name": "StyleView",
            "description_width": ""
          }
        },
        "c728c1b22c98482a860afc277f0d88d5": {
          "model_module": "@jupyter-widgets/controls",
          "model_name": "DropdownModel",
          "model_module_version": "2.0.0",
          "state": {
            "_dom_classes": [],
            "_model_module": "@jupyter-widgets/controls",
            "_model_module_version": "2.0.0",
            "_model_name": "DropdownModel",
            "_options_labels": [
              "UTC",
              "Asia/Karachi",
              "America/New_York",
              "Europe/London",
              "Asia/Tokyo",
              "Australia/Sydney",
              "America/Los_Angeles",
              "Europe/Berlin",
              "Asia/Dubai",
              "Asia/Kolkata"
            ],
            "_view_count": null,
            "_view_module": "@jupyter-widgets/controls",
            "_view_module_version": "2.0.0",
            "_view_name": "DropdownView",
            "description": "To Timezone:",
            "description_allow_html": false,
            "disabled": false,
            "index": 5,
            "layout": "IPY_MODEL_c315827d96394e29bce159e3c4c3c12e",
            "style": "IPY_MODEL_02bf711639f842c0b1f22f58dbc0945b",
            "tabbable": null,
            "tooltip": null
          }
        },
        "c315827d96394e29bce159e3c4c3c12e": {
          "model_module": "@jupyter-widgets/base",
          "model_name": "LayoutModel",
          "model_module_version": "2.0.0",
          "state": {
            "_model_module": "@jupyter-widgets/base",
            "_model_module_version": "2.0.0",
            "_model_name": "LayoutModel",
            "_view_count": null,
            "_view_module": "@jupyter-widgets/base",
            "_view_module_version": "2.0.0",
            "_view_name": "LayoutView",
            "align_content": null,
            "align_items": null,
            "align_self": null,
            "border_bottom": null,
            "border_left": null,
            "border_right": null,
            "border_top": null,
            "bottom": null,
            "display": null,
            "flex": null,
            "flex_flow": null,
            "grid_area": null,
            "grid_auto_columns": null,
            "grid_auto_flow": null,
            "grid_auto_rows": null,
            "grid_column": null,
            "grid_gap": null,
            "grid_row": null,
            "grid_template_areas": null,
            "grid_template_columns": null,
            "grid_template_rows": null,
            "height": null,
            "justify_content": null,
            "justify_items": null,
            "left": null,
            "margin": null,
            "max_height": null,
            "max_width": null,
            "min_height": null,
            "min_width": null,
            "object_fit": null,
            "object_position": null,
            "order": null,
            "overflow": null,
            "padding": null,
            "right": null,
            "top": null,
            "visibility": null,
            "width": null
          }
        },
        "02bf711639f842c0b1f22f58dbc0945b": {
          "model_module": "@jupyter-widgets/controls",
          "model_name": "DescriptionStyleModel",
          "model_module_version": "2.0.0",
          "state": {
            "_model_module": "@jupyter-widgets/controls",
            "_model_module_version": "2.0.0",
            "_model_name": "DescriptionStyleModel",
            "_view_count": null,
            "_view_module": "@jupyter-widgets/base",
            "_view_module_version": "2.0.0",
            "_view_name": "StyleView",
            "description_width": ""
          }
        },
        "125714edf5334884a7fa1e55949d4121": {
          "model_module": "@jupyter-widgets/controls",
          "model_name": "ButtonModel",
          "model_module_version": "2.0.0",
          "state": {
            "_dom_classes": [],
            "_model_module": "@jupyter-widgets/controls",
            "_model_module_version": "2.0.0",
            "_model_name": "ButtonModel",
            "_view_count": null,
            "_view_module": "@jupyter-widgets/controls",
            "_view_module_version": "2.0.0",
            "_view_name": "ButtonView",
            "button_style": "",
            "description": "Convert Time",
            "disabled": false,
            "icon": "",
            "layout": "IPY_MODEL_f58606515fac4a698bc74211984ba064",
            "style": "IPY_MODEL_26c13b0c96f04f239602d6bad088045f",
            "tabbable": null,
            "tooltip": null
          }
        },
        "f58606515fac4a698bc74211984ba064": {
          "model_module": "@jupyter-widgets/base",
          "model_name": "LayoutModel",
          "model_module_version": "2.0.0",
          "state": {
            "_model_module": "@jupyter-widgets/base",
            "_model_module_version": "2.0.0",
            "_model_name": "LayoutModel",
            "_view_count": null,
            "_view_module": "@jupyter-widgets/base",
            "_view_module_version": "2.0.0",
            "_view_name": "LayoutView",
            "align_content": null,
            "align_items": null,
            "align_self": null,
            "border_bottom": null,
            "border_left": null,
            "border_right": null,
            "border_top": null,
            "bottom": null,
            "display": null,
            "flex": null,
            "flex_flow": null,
            "grid_area": null,
            "grid_auto_columns": null,
            "grid_auto_flow": null,
            "grid_auto_rows": null,
            "grid_column": null,
            "grid_gap": null,
            "grid_row": null,
            "grid_template_areas": null,
            "grid_template_columns": null,
            "grid_template_rows": null,
            "height": null,
            "justify_content": null,
            "justify_items": null,
            "left": null,
            "margin": null,
            "max_height": null,
            "max_width": null,
            "min_height": null,
            "min_width": null,
            "object_fit": null,
            "object_position": null,
            "order": null,
            "overflow": null,
            "padding": null,
            "right": null,
            "top": null,
            "visibility": null,
            "width": null
          }
        },
        "26c13b0c96f04f239602d6bad088045f": {
          "model_module": "@jupyter-widgets/controls",
          "model_name": "ButtonStyleModel",
          "model_module_version": "2.0.0",
          "state": {
            "_model_module": "@jupyter-widgets/controls",
            "_model_module_version": "2.0.0",
            "_model_name": "ButtonStyleModel",
            "_view_count": null,
            "_view_module": "@jupyter-widgets/base",
            "_view_module_version": "2.0.0",
            "_view_name": "StyleView",
            "button_color": null,
            "font_family": null,
            "font_size": null,
            "font_style": null,
            "font_variant": null,
            "font_weight": null,
            "text_color": null,
            "text_decoration": null
          }
        },
        "7d1977f11b6d467f84f023e35cd73cb7": {
          "model_module": "@jupyter-widgets/output",
          "model_name": "OutputModel",
          "model_module_version": "1.0.0",
          "state": {
            "_dom_classes": [],
            "_model_module": "@jupyter-widgets/output",
            "_model_module_version": "1.0.0",
            "_model_name": "OutputModel",
            "_view_count": null,
            "_view_module": "@jupyter-widgets/output",
            "_view_module_version": "1.0.0",
            "_view_name": "OutputView",
            "layout": "IPY_MODEL_1269820d3f09417b9d3d422b36a02eb9",
            "msg_id": "",
            "outputs": [
              {
                "output_type": "stream",
                "name": "stdout",
                "text": [
                  "✅ Converted Time in Australia/Sydney: 2025-03-09 05:33:10 AM\n"
                ]
              }
            ],
            "tabbable": null,
            "tooltip": null
          }
        },
        "1269820d3f09417b9d3d422b36a02eb9": {
          "model_module": "@jupyter-widgets/base",
          "model_name": "LayoutModel",
          "model_module_version": "2.0.0",
          "state": {
            "_model_module": "@jupyter-widgets/base",
            "_model_module_version": "2.0.0",
            "_model_name": "LayoutModel",
            "_view_count": null,
            "_view_module": "@jupyter-widgets/base",
            "_view_module_version": "2.0.0",
            "_view_name": "LayoutView",
            "align_content": null,
            "align_items": null,
            "align_self": null,
            "border_bottom": null,
            "border_left": null,
            "border_right": null,
            "border_top": null,
            "bottom": null,
            "display": null,
            "flex": null,
            "flex_flow": null,
            "grid_area": null,
            "grid_auto_columns": null,
            "grid_auto_flow": null,
            "grid_auto_rows": null,
            "grid_column": null,
            "grid_gap": null,
            "grid_row": null,
            "grid_template_areas": null,
            "grid_template_columns": null,
            "grid_template_rows": null,
            "height": null,
            "justify_content": null,
            "justify_items": null,
            "left": null,
            "margin": null,
            "max_height": null,
            "max_width": null,
            "min_height": null,
            "min_width": null,
            "object_fit": null,
            "object_position": null,
            "order": null,
            "overflow": null,
            "padding": null,
            "right": null,
            "top": null,
            "visibility": null,
            "width": null
          }
        },
        "f180963a1b624362800718c044eea203": {
          "model_module": "@jupyter-widgets/output",
          "model_name": "OutputModel",
          "model_module_version": "1.0.0",
          "state": {
            "_dom_classes": [],
            "_model_module": "@jupyter-widgets/output",
            "_model_module_version": "1.0.0",
            "_model_name": "OutputModel",
            "_view_count": null,
            "_view_module": "@jupyter-widgets/output",
            "_view_module_version": "1.0.0",
            "_view_name": "OutputView",
            "layout": "IPY_MODEL_f02d20c1332349aa927997609eba1bdd",
            "msg_id": "",
            "outputs": [
              {
                "output_type": "stream",
                "name": "stdout",
                "text": [
                  "⏱️ Time difference (offset) between UTC and Australia/Sydney: 11:00:00\n"
                ]
              }
            ],
            "tabbable": null,
            "tooltip": null
          }
        },
        "f02d20c1332349aa927997609eba1bdd": {
          "model_module": "@jupyter-widgets/base",
          "model_name": "LayoutModel",
          "model_module_version": "2.0.0",
          "state": {
            "_model_module": "@jupyter-widgets/base",
            "_model_module_version": "2.0.0",
            "_model_name": "LayoutModel",
            "_view_count": null,
            "_view_module": "@jupyter-widgets/base",
            "_view_module_version": "2.0.0",
            "_view_name": "LayoutView",
            "align_content": null,
            "align_items": null,
            "align_self": null,
            "border_bottom": null,
            "border_left": null,
            "border_right": null,
            "border_top": null,
            "bottom": null,
            "display": null,
            "flex": null,
            "flex_flow": null,
            "grid_area": null,
            "grid_auto_columns": null,
            "grid_auto_flow": null,
            "grid_auto_rows": null,
            "grid_column": null,
            "grid_gap": null,
            "grid_row": null,
            "grid_template_areas": null,
            "grid_template_columns": null,
            "grid_template_rows": null,
            "height": null,
            "justify_content": null,
            "justify_items": null,
            "left": null,
            "margin": null,
            "max_height": null,
            "max_width": null,
            "min_height": null,
            "min_width": null,
            "object_fit": null,
            "object_position": null,
            "order": null,
            "overflow": null,
            "padding": null,
            "right": null,
            "top": null,
            "visibility": null,
            "width": null
          }
        }
      }
    }
  },
  "cells": [
    {
      "cell_type": "markdown",
      "metadata": {
        "id": "view-in-github",
        "colab_type": "text"
      },
      "source": [
        "<a href=\"https://colab.research.google.com/github/Ahmed11Raza/TEST-PROJECT-1/blob/main/Time_zoner.ipynb\" target=\"_parent\"><img src=\"https://colab.research.google.com/assets/colab-badge.svg\" alt=\"Open In Colab\"/></a>"
      ]
    },
    {
      "source": [
        "!pip install ipywidgets --upgrade"
      ],
      "cell_type": "code",
      "metadata": {
        "colab": {
          "base_uri": "https://localhost:8080/",
          "height": 846
        },
        "id": "2IyWPZMfBzqd",
        "outputId": "775b8d07-f0cc-4e2b-c951-6f3f87425e45"
      },
      "execution_count": 2,
      "outputs": [
        {
          "output_type": "stream",
          "name": "stdout",
          "text": [
            "Requirement already satisfied: ipywidgets in /usr/local/lib/python3.11/dist-packages (7.7.1)\n",
            "Collecting ipywidgets\n",
            "  Downloading ipywidgets-8.1.5-py3-none-any.whl.metadata (2.3 kB)\n",
            "Collecting comm>=0.1.3 (from ipywidgets)\n",
            "  Downloading comm-0.2.2-py3-none-any.whl.metadata (3.7 kB)\n",
            "Requirement already satisfied: ipython>=6.1.0 in /usr/local/lib/python3.11/dist-packages (from ipywidgets) (7.34.0)\n",
            "Requirement already satisfied: traitlets>=4.3.1 in /usr/local/lib/python3.11/dist-packages (from ipywidgets) (5.7.1)\n",
            "Collecting widgetsnbextension~=4.0.12 (from ipywidgets)\n",
            "  Downloading widgetsnbextension-4.0.13-py3-none-any.whl.metadata (1.6 kB)\n",
            "Requirement already satisfied: jupyterlab-widgets~=3.0.12 in /usr/local/lib/python3.11/dist-packages (from ipywidgets) (3.0.13)\n",
            "Requirement already satisfied: setuptools>=18.5 in /usr/local/lib/python3.11/dist-packages (from ipython>=6.1.0->ipywidgets) (75.1.0)\n",
            "Collecting jedi>=0.16 (from ipython>=6.1.0->ipywidgets)\n",
            "  Downloading jedi-0.19.2-py2.py3-none-any.whl.metadata (22 kB)\n",
            "Requirement already satisfied: decorator in /usr/local/lib/python3.11/dist-packages (from ipython>=6.1.0->ipywidgets) (4.4.2)\n",
            "Requirement already satisfied: pickleshare in /usr/local/lib/python3.11/dist-packages (from ipython>=6.1.0->ipywidgets) (0.7.5)\n",
            "Requirement already satisfied: prompt-toolkit!=3.0.0,!=3.0.1,<3.1.0,>=2.0.0 in /usr/local/lib/python3.11/dist-packages (from ipython>=6.1.0->ipywidgets) (3.0.50)\n",
            "Requirement already satisfied: pygments in /usr/local/lib/python3.11/dist-packages (from ipython>=6.1.0->ipywidgets) (2.18.0)\n",
            "Requirement already satisfied: backcall in /usr/local/lib/python3.11/dist-packages (from ipython>=6.1.0->ipywidgets) (0.2.0)\n",
            "Requirement already satisfied: matplotlib-inline in /usr/local/lib/python3.11/dist-packages (from ipython>=6.1.0->ipywidgets) (0.1.7)\n",
            "Requirement already satisfied: pexpect>4.3 in /usr/local/lib/python3.11/dist-packages (from ipython>=6.1.0->ipywidgets) (4.9.0)\n",
            "Requirement already satisfied: parso<0.9.0,>=0.8.4 in /usr/local/lib/python3.11/dist-packages (from jedi>=0.16->ipython>=6.1.0->ipywidgets) (0.8.4)\n",
            "Requirement already satisfied: ptyprocess>=0.5 in /usr/local/lib/python3.11/dist-packages (from pexpect>4.3->ipython>=6.1.0->ipywidgets) (0.7.0)\n",
            "Requirement already satisfied: wcwidth in /usr/local/lib/python3.11/dist-packages (from prompt-toolkit!=3.0.0,!=3.0.1,<3.1.0,>=2.0.0->ipython>=6.1.0->ipywidgets) (0.2.13)\n",
            "Downloading ipywidgets-8.1.5-py3-none-any.whl (139 kB)\n",
            "\u001b[2K   \u001b[90m━━━━━━━━━━━━━━━━━━━━━━━━━━━━━━━━━━━━━━━━\u001b[0m \u001b[32m139.8/139.8 kB\u001b[0m \u001b[31m4.1 MB/s\u001b[0m eta \u001b[36m0:00:00\u001b[0m\n",
            "\u001b[?25hDownloading comm-0.2.2-py3-none-any.whl (7.2 kB)\n",
            "Downloading widgetsnbextension-4.0.13-py3-none-any.whl (2.3 MB)\n",
            "\u001b[2K   \u001b[90m━━━━━━━━━━━━━━━━━━━━━━━━━━━━━━━━━━━━━━━━\u001b[0m \u001b[32m2.3/2.3 MB\u001b[0m \u001b[31m36.8 MB/s\u001b[0m eta \u001b[36m0:00:00\u001b[0m\n",
            "\u001b[?25hDownloading jedi-0.19.2-py2.py3-none-any.whl (1.6 MB)\n",
            "\u001b[2K   \u001b[90m━━━━━━━━━━━━━━━━━━━━━━━━━━━━━━━━━━━━━━━━\u001b[0m \u001b[32m1.6/1.6 MB\u001b[0m \u001b[31m42.7 MB/s\u001b[0m eta \u001b[36m0:00:00\u001b[0m\n",
            "\u001b[?25hInstalling collected packages: widgetsnbextension, jedi, comm, ipywidgets\n",
            "  Attempting uninstall: widgetsnbextension\n",
            "    Found existing installation: widgetsnbextension 3.6.10\n",
            "    Uninstalling widgetsnbextension-3.6.10:\n",
            "      Successfully uninstalled widgetsnbextension-3.6.10\n",
            "  Attempting uninstall: ipywidgets\n",
            "    Found existing installation: ipywidgets 7.7.1\n",
            "    Uninstalling ipywidgets-7.7.1:\n",
            "      Successfully uninstalled ipywidgets-7.7.1\n",
            "Successfully installed comm-0.2.2 ipywidgets-8.1.5 jedi-0.19.2 widgetsnbextension-4.0.13\n"
          ]
        },
        {
          "output_type": "display_data",
          "data": {
            "application/vnd.colab-display-data+json": {
              "pip_warning": {
                "packages": [
                  "ipywidgets"
                ]
              },
              "id": "24cd3b1a18444225aabd4b389c87f62b"
            }
          },
          "metadata": {}
        }
      ]
    },
    {
      "source": [
        "!pip install ipywidgets --upgrade"
      ],
      "cell_type": "code",
      "metadata": {
        "colab": {
          "base_uri": "https://localhost:8080/"
        },
        "id": "UVqVAsILB8FY",
        "outputId": "9c1f60e2-35ac-45ae-f3a4-07ec626b4c3c"
      },
      "execution_count": 1,
      "outputs": [
        {
          "output_type": "stream",
          "name": "stdout",
          "text": [
            "Requirement already satisfied: ipywidgets in /usr/local/lib/python3.11/dist-packages (8.1.5)\n",
            "Requirement already satisfied: comm>=0.1.3 in /usr/local/lib/python3.11/dist-packages (from ipywidgets) (0.2.2)\n",
            "Requirement already satisfied: ipython>=6.1.0 in /usr/local/lib/python3.11/dist-packages (from ipywidgets) (7.34.0)\n",
            "Requirement already satisfied: traitlets>=4.3.1 in /usr/local/lib/python3.11/dist-packages (from ipywidgets) (5.7.1)\n",
            "Requirement already satisfied: widgetsnbextension~=4.0.12 in /usr/local/lib/python3.11/dist-packages (from ipywidgets) (4.0.13)\n",
            "Requirement already satisfied: jupyterlab-widgets~=3.0.12 in /usr/local/lib/python3.11/dist-packages (from ipywidgets) (3.0.13)\n",
            "Requirement already satisfied: setuptools>=18.5 in /usr/local/lib/python3.11/dist-packages (from ipython>=6.1.0->ipywidgets) (75.1.0)\n",
            "Requirement already satisfied: jedi>=0.16 in /usr/local/lib/python3.11/dist-packages (from ipython>=6.1.0->ipywidgets) (0.19.2)\n",
            "Requirement already satisfied: decorator in /usr/local/lib/python3.11/dist-packages (from ipython>=6.1.0->ipywidgets) (4.4.2)\n",
            "Requirement already satisfied: pickleshare in /usr/local/lib/python3.11/dist-packages (from ipython>=6.1.0->ipywidgets) (0.7.5)\n",
            "Requirement already satisfied: prompt-toolkit!=3.0.0,!=3.0.1,<3.1.0,>=2.0.0 in /usr/local/lib/python3.11/dist-packages (from ipython>=6.1.0->ipywidgets) (3.0.50)\n",
            "Requirement already satisfied: pygments in /usr/local/lib/python3.11/dist-packages (from ipython>=6.1.0->ipywidgets) (2.18.0)\n",
            "Requirement already satisfied: backcall in /usr/local/lib/python3.11/dist-packages (from ipython>=6.1.0->ipywidgets) (0.2.0)\n",
            "Requirement already satisfied: matplotlib-inline in /usr/local/lib/python3.11/dist-packages (from ipython>=6.1.0->ipywidgets) (0.1.7)\n",
            "Requirement already satisfied: pexpect>4.3 in /usr/local/lib/python3.11/dist-packages (from ipython>=6.1.0->ipywidgets) (4.9.0)\n",
            "Requirement already satisfied: parso<0.9.0,>=0.8.4 in /usr/local/lib/python3.11/dist-packages (from jedi>=0.16->ipython>=6.1.0->ipywidgets) (0.8.4)\n",
            "Requirement already satisfied: ptyprocess>=0.5 in /usr/local/lib/python3.11/dist-packages (from pexpect>4.3->ipython>=6.1.0->ipywidgets) (0.7.0)\n",
            "Requirement already satisfied: wcwidth in /usr/local/lib/python3.11/dist-packages (from prompt-toolkit!=3.0.0,!=3.0.1,<3.1.0,>=2.0.0->ipython>=6.1.0->ipywidgets) (0.2.13)\n"
          ]
        }
      ]
    },
    {
      "source": [
        "from datetime import datetime, timedelta\n",
        "from zoneinfo import ZoneInfo\n",
        "from typing import Optional\n",
        "import ipywidgets as widgets\n",
        "from IPython.display import display\n",
        "\n",
        "# ... (rest of your code) ...\n",
        "\n",
        "# Use DatePicker instead of TimePicker if TimePicker is not available:\n",
        "try:\n",
        "    time_input = widgets.TimePicker(\n",
        "        description=\"Current Time:\",\n",
        "        value=datetime.now().time(),\n",
        "        disabled=False,\n",
        "    )\n",
        "except AttributeError:\n",
        "    print(\"TimePicker not found, using DatePicker instead.\")  # Inform the user\n",
        "    time_input = widgets.DatePicker(  # Fallback to DatePicker\n",
        "        description=\"Select Date:\",\n",
        "        value=datetime.now().date(),\n",
        "        disabled=False,\n",
        "    )\n",
        "\n",
        "# ... (rest of your code) ..."
      ],
      "cell_type": "code",
      "metadata": {
        "id": "rQqGgRaQB-SD"
      },
      "execution_count": 2,
      "outputs": []
    },
    {
      "cell_type": "code",
      "source": [
        "from datetime import datetime, timedelta\n",
        "from zoneinfo import ZoneInfo\n",
        "from typing import Optional\n",
        "import ipywidgets as widgets\n",
        "from IPython.display import display\n",
        "\n",
        "# List of available time zones\n",
        "TIME_ZONES = [\n",
        "    \"UTC\",\n",
        "    \"Asia/Karachi\",\n",
        "    \"America/New_York\",\n",
        "    \"Europe/London\",\n",
        "    \"Asia/Tokyo\",\n",
        "    \"Australia/Sydney\",\n",
        "    \"America/Los_Angeles\",\n",
        "    \"Europe/Berlin\",\n",
        "    \"Asia/Dubai\",\n",
        "    \"Asia/Kolkata\",\n",
        "]\n",
        "\n",
        "# Function to get the current time in a specific timezone\n",
        "def get_current_time(timezone: str) -> str:\n",
        "    return datetime.now(ZoneInfo(timezone)).strftime(\"%Y-%m-%d %I:%M:%S %p\")\n",
        "\n",
        "# Updated function to convert time between timezones\n",
        "def convert_time(t: datetime.time, from_tz: str, to_tz: str) -> str:\n",
        "    # Get today's date in the source timezone\n",
        "    source_date = datetime.now(ZoneInfo(from_tz)).date()\n",
        "    # Combine the date with the provided time\n",
        "    dt = datetime.combine(source_date, t)\n",
        "    # Make the datetime aware of the source timezone\n",
        "    dt = dt.replace(tzinfo=ZoneInfo(from_tz))\n",
        "    # Convert datetime to target timezone and format the output\n",
        "    return dt.astimezone(ZoneInfo(to_tz)).strftime(\"%Y-%m-%d %I:%M:%S %p\")\n",
        "\n",
        "# Updated function to calculate the time difference (offset) between two timezones\n",
        "def get_time_difference(from_tz: str, to_tz: str) -> Optional[timedelta]:\n",
        "    try:\n",
        "        # Use current reference time (UTC conversion will account for offsets)\n",
        "        now = datetime.now()\n",
        "        offset_from = ZoneInfo(from_tz).utcoffset(now)\n",
        "        offset_to = ZoneInfo(to_tz).utcoffset(now)\n",
        "        if offset_from is None or offset_to is None:\n",
        "            return None\n",
        "        return offset_to - offset_from\n",
        "    except Exception as e:\n",
        "        print(f\"Error calculating time difference: {e}\")\n",
        "        return None\n",
        "\n",
        "# Widgets for user input\n",
        "timezone_multiselect = widgets.SelectMultiple(\n",
        "    options=TIME_ZONES,\n",
        "    value=[\"UTC\", \"Asia/Karachi\"],\n",
        "    description=\"Select Timezones:\",\n",
        "    disabled=False,\n",
        ")\n",
        "\n",
        "# Note: Ensure that your ipywidgets version includes a TimePicker widget.\n",
        "time_input = widgets.TimePicker(\n",
        "    description=\"Current Time:\",\n",
        "    value=datetime.now().time(),\n",
        "    disabled=False,\n",
        ")\n",
        "\n",
        "from_tz_dropdown = widgets.Dropdown(\n",
        "    options=TIME_ZONES,\n",
        "    value=\"UTC\",\n",
        "    description=\"From Timezone:\",\n",
        "    disabled=False,\n",
        ")\n",
        "\n",
        "to_tz_dropdown = widgets.Dropdown(\n",
        "    options=TIME_ZONES,\n",
        "    value=\"Asia/Karachi\",\n",
        "    description=\"To Timezone:\",\n",
        "    disabled=False,\n",
        ")\n",
        "\n",
        "convert_button = widgets.Button(description=\"Convert Time\")\n",
        "\n",
        "# Output widgets\n",
        "current_time_output = widgets.Output()\n",
        "conversion_output = widgets.Output()\n",
        "time_difference_output = widgets.Output()\n",
        "\n",
        "# Function to handle timezone selection and display current time\n",
        "def display_current_time(_):\n",
        "    current_time_output.clear_output()\n",
        "    with current_time_output:\n",
        "        print(\"🕒 Current Time in Selected Timezones:\")\n",
        "        for tz in timezone_multiselect.value:\n",
        "            print(f\"{tz}: {get_current_time(tz)}\")\n",
        "\n",
        "# Function to handle time conversion\n",
        "def handle_conversion(_):\n",
        "    conversion_output.clear_output()\n",
        "    time_difference_output.clear_output()\n",
        "\n",
        "    from_tz = from_tz_dropdown.value\n",
        "    to_tz = to_tz_dropdown.value\n",
        "\n",
        "    if from_tz == to_tz:\n",
        "        with conversion_output:\n",
        "            print(\"⚠️ Source and target timezones are the same. No conversion needed.\")\n",
        "    else:\n",
        "        try:\n",
        "            converted_time = convert_time(time_input.value, from_tz, to_tz)\n",
        "            with conversion_output:\n",
        "                print(f\"✅ Converted Time in {to_tz}: {converted_time}\")\n",
        "\n",
        "            # Display the time difference (offset difference)\n",
        "            time_difference = get_time_difference(from_tz, to_tz)\n",
        "            if time_difference is not None:\n",
        "                with time_difference_output:\n",
        "                    print(f\"⏱️ Time difference (offset) between {from_tz} and {to_tz}: {time_difference}\")\n",
        "        except Exception as e:\n",
        "            with conversion_output:\n",
        "                print(f\"❌ Error during conversion: {e}\")\n",
        "\n",
        "# Attach event handlers\n",
        "timezone_multiselect.observe(display_current_time, names=\"value\")\n",
        "convert_button.on_click(handle_conversion)\n",
        "\n",
        "# Display widgets\n",
        "print(\"🌍 Time Zone Converter\")\n",
        "display(timezone_multiselect)\n",
        "display(current_time_output)\n",
        "print(\"⏳ Convert Time Between Timezones\")\n",
        "display(time_input)\n",
        "display(from_tz_dropdown)\n",
        "display(to_tz_dropdown)\n",
        "display(convert_button)\n",
        "display(conversion_output)\n",
        "display(time_difference_output)\n",
        "\n",
        "# Initial display of current time\n",
        "display_current_time(None)\n"
      ],
      "metadata": {
        "colab": {
          "base_uri": "https://localhost:8080/",
          "height": 314,
          "referenced_widgets": [
            "e991a2c202c348d09cac9463b4c08c83",
            "e73aede018964dac95f9725cec7f7f7c",
            "e94c0ecc61534fc685cd1b1a9a88ef7c",
            "563f0295772e4d439b682ea0d05670ed",
            "1a9cb3c5c8334cb6bdf5acbd9b8342de",
            "3c5b9161258745758145b2ce913636d4",
            "8686d13f6170432fbb4095fc35053066",
            "dc506aa643b34f168a7d8c44c808deca",
            "71b2cc585fde4aab9e474d51238a5102",
            "c728c1b22c98482a860afc277f0d88d5",
            "c315827d96394e29bce159e3c4c3c12e",
            "02bf711639f842c0b1f22f58dbc0945b",
            "125714edf5334884a7fa1e55949d4121",
            "f58606515fac4a698bc74211984ba064",
            "26c13b0c96f04f239602d6bad088045f",
            "7d1977f11b6d467f84f023e35cd73cb7",
            "1269820d3f09417b9d3d422b36a02eb9",
            "f180963a1b624362800718c044eea203",
            "f02d20c1332349aa927997609eba1bdd"
          ]
        },
        "id": "-ftSs68LCERU",
        "outputId": "7bcb35e1-125c-46eb-f64f-91b0a4fca85f"
      },
      "execution_count": 3,
      "outputs": [
        {
          "output_type": "stream",
          "name": "stdout",
          "text": [
            "🌍 Time Zone Converter\n"
          ]
        },
        {
          "output_type": "display_data",
          "data": {
            "text/plain": [
              "SelectMultiple(description='Select Timezones:', index=(0, 1), options=('UTC', 'Asia/Karachi', 'America/New_Yor…"
            ],
            "application/vnd.jupyter.widget-view+json": {
              "version_major": 2,
              "version_minor": 0,
              "model_id": "e991a2c202c348d09cac9463b4c08c83"
            }
          },
          "metadata": {}
        },
        {
          "output_type": "display_data",
          "data": {
            "text/plain": [
              "Output()"
            ],
            "application/vnd.jupyter.widget-view+json": {
              "version_major": 2,
              "version_minor": 0,
              "model_id": "563f0295772e4d439b682ea0d05670ed"
            }
          },
          "metadata": {}
        },
        {
          "output_type": "stream",
          "name": "stdout",
          "text": [
            "⏳ Convert Time Between Timezones\n"
          ]
        },
        {
          "output_type": "display_data",
          "data": {
            "text/plain": [
              "TimePicker(value=datetime.time(18, 33, 10, 921554), description='Current Time:', step=60.0)"
            ],
            "application/vnd.jupyter.widget-view+json": {
              "version_major": 2,
              "version_minor": 0,
              "model_id": "3c5b9161258745758145b2ce913636d4"
            }
          },
          "metadata": {}
        },
        {
          "output_type": "display_data",
          "data": {
            "text/plain": [
              "Dropdown(description='From Timezone:', options=('UTC', 'Asia/Karachi', 'America/New_York', 'Europe/London', 'A…"
            ],
            "application/vnd.jupyter.widget-view+json": {
              "version_major": 2,
              "version_minor": 0,
              "model_id": "8686d13f6170432fbb4095fc35053066"
            }
          },
          "metadata": {}
        },
        {
          "output_type": "display_data",
          "data": {
            "text/plain": [
              "Dropdown(description='To Timezone:', index=1, options=('UTC', 'Asia/Karachi', 'America/New_York', 'Europe/Lond…"
            ],
            "application/vnd.jupyter.widget-view+json": {
              "version_major": 2,
              "version_minor": 0,
              "model_id": "c728c1b22c98482a860afc277f0d88d5"
            }
          },
          "metadata": {}
        },
        {
          "output_type": "display_data",
          "data": {
            "text/plain": [
              "Button(description='Convert Time', style=ButtonStyle())"
            ],
            "application/vnd.jupyter.widget-view+json": {
              "version_major": 2,
              "version_minor": 0,
              "model_id": "125714edf5334884a7fa1e55949d4121"
            }
          },
          "metadata": {}
        },
        {
          "output_type": "display_data",
          "data": {
            "text/plain": [
              "Output()"
            ],
            "application/vnd.jupyter.widget-view+json": {
              "version_major": 2,
              "version_minor": 0,
              "model_id": "7d1977f11b6d467f84f023e35cd73cb7"
            }
          },
          "metadata": {}
        },
        {
          "output_type": "display_data",
          "data": {
            "text/plain": [
              "Output()"
            ],
            "application/vnd.jupyter.widget-view+json": {
              "version_major": 2,
              "version_minor": 0,
              "model_id": "f180963a1b624362800718c044eea203"
            }
          },
          "metadata": {}
        }
      ]
    },
    {
      "cell_type": "code",
      "source": [
        "from google.colab import output\n",
        "output.enable_custom_widget_manager()"
      ],
      "metadata": {
        "id": "_c8b2HOFCHfs"
      },
      "execution_count": null,
      "outputs": []
    },
    {
      "cell_type": "markdown",
      "source": [
        "Support for third party widgets will remain active for the duration of the session. To disable support:"
      ],
      "metadata": {
        "id": "u1NOSMpFCHft"
      }
    },
    {
      "cell_type": "code",
      "source": [
        "from google.colab import output\n",
        "output.disable_custom_widget_manager()"
      ],
      "metadata": {
        "id": "tpj1hH0PCHfz"
      },
      "execution_count": null,
      "outputs": []
    }
  ]
}