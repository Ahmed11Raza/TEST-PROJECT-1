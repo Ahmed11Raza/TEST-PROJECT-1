{
  "nbformat": 4,
  "nbformat_minor": 0,
  "metadata": {
    "colab": {
      "provenance": [],
      "authorship_tag": "ABX9TyMfJGpuXgSSJO6YH0+6cNdy",
      "include_colab_link": true
    },
    "kernelspec": {
      "name": "python3",
      "display_name": "Python 3"
    },
    "language_info": {
      "name": "python"
    }
  },
  "cells": [
    {
      "cell_type": "markdown",
      "metadata": {
        "id": "view-in-github",
        "colab_type": "text"
      },
      "source": [
        "<a href=\"https://colab.research.google.com/github/Ahmed11Raza/TEST-PROJECT-1/blob/main/Test_project.ipynb\" target=\"_parent\"><img src=\"https://colab.research.google.com/assets/colab-badge.svg\" alt=\"Open In Colab\"/></a>"
      ]
    },
    {
      "cell_type": "code",
      "source": [
        "# Test Project\n",
        "\n",
        "# Importing necessary libraries\n",
        "import random\n",
        "import datetime\n",
        "from typing import List\n",
        "\n",
        "def greet_user(name: str) -> str:\n",
        "    \"\"\"Greets the user with their name and current date and time.\"\"\"\n",
        "    now = datetime.datetime.now()\n",
        "    return f\"Hello, {name}! Today's date is {now.strftime('%Y-%m-%d')} and the time is {now.strftime('%H:%M:%S')}.\"\n",
        "\n",
        "def generate_random_numbers(count: int, start: int, end: int, unique: bool = False) -> List[int]:\n",
        "    \"\"\"Generates a list of random numbers, optionally ensuring uniqueness.\"\"\"\n",
        "    if count <= 0 or start > end:\n",
        "        raise ValueError(\"Invalid input parameters.\")\n",
        "    if unique and count > (end - start + 1):\n",
        "        raise ValueError(\"Not enough unique numbers in the specified range.\")\n",
        "    if unique:\n",
        "        return random.sample(range(start, end + 1), count)\n",
        "    return [random.randint(start, end) for _ in range(count)]\n",
        "\n",
        "def get_user_input(prompt: str, input_type: type, default=None):\n",
        "    \"\"\"Gets validated user input of a specific type with an optional default value.\"\"\"\n",
        "    while True:\n",
        "        try:\n",
        "            user_input = input(prompt)\n",
        "            if user_input.strip() == \"\" and default is not None:\n",
        "                return default\n",
        "            return input_type(user_input)\n",
        "        except ValueError:\n",
        "            print(f\"Please enter a valid {input_type.__name__}.\")\n",
        "\n",
        "def save_results_to_file(numbers: List[int], file_name: str = \"results.txt\"):\n",
        "    \"\"\"Saves the generated numbers to a text file.\"\"\"\n",
        "    try:\n",
        "        with open(file_name, \"w\") as file:\n",
        "            file.write(\"Generated Numbers:\\n\")\n",
        "            file.write(\", \".join(map(str, numbers)))\n",
        "        print(f\"Results saved to {file_name}\")\n",
        "    except IOError as e:\n",
        "        print(f\"Failed to save results to file: {e}\")\n",
        "\n",
        "def display_statistics(numbers: List[int]):\n",
        "    \"\"\"Displays basic statistics about the generated numbers.\"\"\"\n",
        "    if not numbers:\n",
        "        print(\"No numbers to analyze.\")\n",
        "        return\n",
        "    print(\"\\nStatistics:\")\n",
        "    print(f\"Count: {len(numbers)}\")\n",
        "    print(f\"Sum: {sum(numbers)}\")\n",
        "    print(f\"Mean: {sum(numbers) / len(numbers):.2f}\")\n",
        "    print(f\"Minimum: {min(numbers)}\")\n",
        "    print(f\"Maximum: {max(numbers)}\")\n",
        "\n",
        "def main():\n",
        "    \"\"\"Main function to demonstrate the test project.\"\"\"\n",
        "    print(\"Welcome to the Test Project!\\n\")\n",
        "    name = get_user_input(\"Please enter your name (default: Guest): \", str, default=\"Guest\")\n",
        "    print(greet_user(name))\n",
        "\n",
        "    try:\n",
        "        count = get_user_input(\"How many random numbers do you want to generate? \", int)\n",
        "        start = get_user_input(\"Enter the start of the range: \", int)\n",
        "        end = get_user_input(\"Enter the end of the range: \", int)\n",
        "        unique = get_user_input(\"Ensure numbers are unique? (yes/no, default: no): \", str, default=\"no\").lower() == \"yes\"\n",
        "\n",
        "        numbers = generate_random_numbers(count, start, end, unique)\n",
        "        print(\"\\nGenerated numbers:\")\n",
        "        print(numbers if not unique else sorted(numbers))\n",
        "\n",
        "        display_statistics(numbers)\n",
        "\n",
        "        save_to_file = get_user_input(\"Save results to file? (yes/no, default: yes): \", str, default=\"yes\").lower() == \"yes\"\n",
        "        if save_to_file:\n",
        "            save_results_to_file(numbers)\n",
        "    except ValueError as e:\n",
        "        print(f\"Error: {e}\")\n",
        "\n",
        "if __name__ == \"__main__\":\n",
        "    main()\n"
      ],
      "metadata": {
        "colab": {
          "base_uri": "https://localhost:8080/"
        },
        "id": "GgAtnuCqBgwO",
        "outputId": "e91b9604-78d0-4307-ad80-e3ea9ce2362e"
      },
      "execution_count": 2,
      "outputs": [
        {
          "output_type": "stream",
          "name": "stdout",
          "text": [
            "Welcome to the Test Project!\n",
            "\n",
            "Please enter your name (default: Guest): ahmed\n",
            "Hello, ahmed! Today's date is 2025-01-22 and the time is 21:58:38.\n",
            "How many random numbers do you want to generate? 4\n",
            "Enter the start of the range: 10\n",
            "Enter the end of the range: 80\n",
            "Ensure numbers are unique? (yes/no, default: no): no\n",
            "\n",
            "Generated numbers:\n",
            "[79, 46, 15, 72]\n",
            "\n",
            "Statistics:\n",
            "Count: 4\n",
            "Sum: 212\n",
            "Mean: 53.00\n",
            "Minimum: 15\n",
            "Maximum: 79\n",
            "Save results to file? (yes/no, default: yes): yes\n",
            "Results saved to results.txt\n"
          ]
        }
      ]
    }
  ]
}